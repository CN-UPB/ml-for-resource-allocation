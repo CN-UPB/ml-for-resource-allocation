{
 "cells": [
  {
   "cell_type": "markdown",
   "metadata": {},
   "source": [
    "# Synthetic VNF Data\n",
    "\n",
    "Gen synth data and fit multiple models agains it"
   ]
  },
  {
   "cell_type": "code",
   "execution_count": 52,
   "metadata": {},
   "outputs": [],
   "source": [
    "import warnings\n",
    "warnings.simplefilter(action='ignore', category=FutureWarning)\n",
    "\n",
    "import math\n",
    "import pandas as pd\n",
    "import numpy as np\n",
    "import matplotlib.pyplot as plt\n",
    "import seaborn as sns\n",
    "import joblib\n",
    "\n",
    "from sklearn.base import BaseEstimator\n",
    "from sklearn.model_selection import KFold, train_test_split, cross_val_score, GridSearchCV\n",
    "from sklearn.linear_model import LinearRegression, Ridge\n",
    "from sklearn.ensemble import RandomForestRegressor, GradientBoostingRegressor\n",
    "from sklearn.svm import SVR\n",
    "from sklearn.neural_network import MLPRegressor\n",
    "from sklearn.preprocessing import LabelEncoder, StandardScaler, PolynomialFeatures\n",
    "from sklearn.model_selection import train_test_split\n",
    "from sklearn.preprocessing import MinMaxScaler\n",
    "from sklearn.metrics import mean_squared_error\n",
    "\n",
    "%matplotlib inline\n",
    "\n",
    "sns.set(font_scale=1.2)\n",
    "sns.set_style(\"white\")"
   ]
  },
  {
   "cell_type": "code",
   "execution_count": 53,
   "metadata": {},
   "outputs": [],
   "source": [
    "class FixedModel(BaseEstimator):\n",
    "    \"\"\"\n",
    "    sklearn model of the fixed model, \n",
    "    always allocating/predicting a fixed, pre-defined amount of resources.\n",
    "    For use in sklearn functions like k-fold CV\n",
    "    \"\"\"\n",
    "    def __init__(self, fixed_value):\n",
    "        self.fixed_value = fixed_value\n",
    "        \n",
    "    def fit(self, X, y):\n",
    "        \"\"\"There's nothing to fit here\"\"\"\n",
    "        return self\n",
    "    \n",
    "    def predict(self, X):\n",
    "        \"\"\"Always 'predict' the specified fixed value\"\"\"\n",
    "        n_samples = X.shape[0]\n",
    "        return [self.fixed_value for _ in range(n_samples)]"
   ]
  },
  {
   "cell_type": "code",
   "execution_count": 54,
   "metadata": {},
   "outputs": [],
   "source": [
    "# define column names\n",
    "cpu_col = 'Resource req. [e.g., CPU]'\n",
    "thr_col = 'Traffic load [e.g., Mbit/s]'"
   ]
  },
  {
   "cell_type": "code",
   "execution_count": 55,
   "metadata": {},
   "outputs": [],
   "source": [
    "# generate synthetic data\n",
    "def gen_benchmark(cpu, coeff1=1, coeff2=1):\n",
    "    \"\"\"Generate max throughput for given CPU time according to log function\"\"\"\n",
    "    return coeff1 * math.log2(1 + coeff2 * cpu)\n",
    "\n",
    "def synthetic_benchmark():\n",
    "    \"\"\"Generate synthetic benchmark results for CPU time 0-100%\"\"\"\n",
    "    cpu_list = np.arange(0.1, 1, .01)\n",
    "    data = []\n",
    "    for cpu in cpu_list:\n",
    "        data.append([cpu, gen_benchmark(cpu, coeff2=100)])\n",
    "    return pd.DataFrame(data, columns=[cpu_col, thr_col])\n",
    "\n",
    "# inverse function to calculate cpu given a throughput\n",
    "def inverse(thru, coeff2=1):\n",
    "    return (1/coeff2) * (2**thru - 1)"
   ]
  },
  {
   "cell_type": "code",
   "execution_count": 56,
   "metadata": {},
   "outputs": [],
   "source": [
    "# prepare data\n",
    "df = synthetic_benchmark()\n",
    "X = df[[thr_col]]\n",
    "y = df[cpu_col]"
   ]
  },
  {
   "cell_type": "code",
   "execution_count": 57,
   "metadata": {},
   "outputs": [],
   "source": [
    "def cross_validation_rmse(model, X, y, k=5, save_model=False):\n",
    "    \"\"\"Do k-fold CV and return the avg RMSE on the validation set. Train and save the model.\"\"\"\n",
    "    scores = cross_val_score(model, X, y, scoring=\"neg_mean_squared_error\", cv=k)\n",
    "    rmse = np.sqrt(-scores)\n",
    "    name = type(model).__name__\n",
    "    print(f\"CV RMSE of {name}: {rmse.mean()} (+/-{rmse.std()})\")  \n",
    "    if save_model:\n",
    "        model.fit(X, y)\n",
    "        joblib.dump(model, f'ml_models/synth_data/{name}.joblib')\n",
    "    return rmse \n",
    "\n",
    "def barplot_rmse(scores, labels, data_name):\n",
    "    \"\"\"bar plot comparing the RMSE of the different algorithms\"\"\"\n",
    "    assert len(scores) == len(labels)\n",
    "    \n",
    "    # preparation\n",
    "    rmse_mean = [s.mean() for s in scores]\n",
    "    rmse_std = [s.std() for s in scores]\n",
    "    x = np.arange(len(labels))\n",
    "\n",
    "    # plot\n",
    "    fig, ax = plt.subplots()\n",
    "    plt.bar(x, rmse_mean, color='grey', yerr=rmse_std, capsize=5)\n",
    "\n",
    "    # labels\n",
    "    ax.set_xlabel('Machine learning models')\n",
    "    ax.set_ylabel('RMSE')\n",
    "    ax.set_xticks(x)\n",
    "    ax.set_xticklabels(labels)\n",
    "    \n",
    "    fig.savefig(f'plots/{data_name}_rmse.pdf', bbox_inches='tight')"
   ]
  },
  {
   "cell_type": "code",
   "execution_count": 58,
   "metadata": {},
   "outputs": [
    {
     "name": "stdout",
     "output_type": "stream",
     "text": [
      "CV RMSE of LinearRegression: 0.12121162713679334 (+/-0.0834142420571489)\n",
      "CV RMSE of Ridge: 0.1157083036553567 (+/-0.07204672163128789)\n",
      "CV RMSE of SVR: 0.15772899390054107 (+/-0.08774146778153001)\n",
      "CV RMSE of RandomForestRegressor: 0.08148326453904302 (+/-0.029564991310187083)\n",
      "CV RMSE of GradientBoostingRegressor: 0.07805364007331642 (+/-0.025433426403506574)\n",
      "CV RMSE of MLPRegressor: 0.27154164765136407 (+/-0.11603189168833518)\n",
      "CV RMSE of FixedModel: 0.30476112171679437 (+/-0.19909124881970067)\n"
     ]
    },
    {
     "data": {
      "image/png": "[encoded data removed]",
      "text/plain": [
       "<Figure size 432x288 with 1 Axes>"
      ]
     },
     "metadata": {},
     "output_type": "display_data"
    }
   ],
   "source": [
    "models = [LinearRegression(), Ridge(), SVR(), RandomForestRegressor(), \n",
    "          GradientBoostingRegressor(), MLPRegressor(max_iter=1500), \n",
    "          FixedModel(fixed_value=0.8)]\n",
    "labels = ['Linear', 'Ridge', 'SVR', 'Forest', 'Boosting', 'MLP', 'Fixed']\n",
    "rmse = [cross_validation_rmse(model, X, y) for model in models]\n",
    "\n",
    "barplot_rmse(rmse, labels, 'synth_default')"
   ]
  },
  {
   "cell_type": "code",
   "execution_count": 59,
   "metadata": {},
   "outputs": [
    {
     "name": "stdout",
     "output_type": "stream",
     "text": [
      "CV RMSE of LinearRegression: 0.12121162713679334 (+/-0.0834142420571489)\n",
      "CV RMSE of Ridge: 0.09668457215749979 (+/-0.060822156542014665)\n",
      "CV RMSE of SVR: 0.10148672105555254 (+/-0.04273273250016648)\n",
      "CV RMSE of RandomForestRegressor: 0.07953620592776547 (+/-0.029304204323962)\n",
      "CV RMSE of GradientBoostingRegressor: 0.07805364007331642 (+/-0.025433426403506574)\n",
      "CV RMSE of MLPRegressor: 0.1628370434401521 (+/-0.11193825596478266)\n",
      "CV RMSE of FixedModel: 0.30476112171679437 (+/-0.19909124881970067)\n"
     ]
    },
    {
     "data": {
      "image/png": "[encoded data removed]",
      "text/plain": [
       "<Figure size 432x288 with 1 Axes>"
      ]
     },
     "metadata": {},
     "output_type": "display_data"
    }
   ],
   "source": [
    "# scale the data and do again\n",
    "scaler = MinMaxScaler()\n",
    "X_scaled = scaler.fit_transform(X)\n",
    "\n",
    "rmse = [cross_validation_rmse(model, X_scaled, y) for model in models]\n",
    "barplot_rmse(rmse, labels, 'synth_scaled')"
   ]
  },
  {
   "cell_type": "code",
   "execution_count": 60,
   "metadata": {},
   "outputs": [],
   "source": [
    "def tune_hyperparams(model, X, y, params):\n",
    "    \"\"\"Do grid search CV for hyperparam tuning and return CV RMSE\"\"\"\n",
    "    grid_search = GridSearchCV(model, params, cv=5, scoring=\"neg_mean_squared_error\")\n",
    "    grid_search.fit(X, y)   \n",
    "    return cross_validation_rmse(grid_search.best_estimator_, X, y)"
   ]
  },
  {
   "cell_type": "code",
   "execution_count": 62,
   "metadata": {},
   "outputs": [
    {
     "name": "stdout",
     "output_type": "stream",
     "text": [
      "CV RMSE of LinearRegression: 0.12121162713679334 (+/-0.0834142420571489)\n",
      "CV RMSE of Ridge: 0.09668457215749979 (+/-0.060822156542014665)\n",
      "CV RMSE of SVR: 0.005448995192915848 (+/-0.005411929454877605)\n",
      "CV RMSE of RandomForestRegressor: 0.08005530670127282 (+/-0.027759144280531358)\n",
      "CV RMSE of GradientBoostingRegressor: 0.07755613024304038 (+/-0.025150165128635854)\n",
      "CV RMSE of MLPRegressor: 0.07373923962295019 (+/-0.041435945649509)\n",
      "CV RMSE of FixedModel: 0.30476112171679437 (+/-0.19909124881970067)\n"
     ]
    },
    {
     "data": {
      "image/png": "[encoded data removed]",
      "text/plain": [
       "<Figure size 432x288 with 1 Axes>"
      ]
     },
     "metadata": {},
     "output_type": "display_data"
    }
   ],
   "source": [
    "# hyperparam tuning\n",
    "params_ridge = {'alpha': [0.1, 1, 10]}\n",
    "params_svr = {'kernel': ['linear', 'poly', 'rbf'], 'C': [1, 10, 100], \n",
    "              'epsilon': [0.001, 0.01, 0.1]}\n",
    "params_forest = {'n_estimators': [10, 100, 200]}\n",
    "params_boosting = {'learning_rate': [0.01, 0.1, 0.3], 'n_estimators': [10, 100, 200]}\n",
    "params_mlp = {'hidden_layer_sizes': [(64,), (128,), (256)], 'alpha': [0.001, 0.0001, 0.00001],\n",
    "              'learning_rate_init': [0.01, 0.001, 0.0001]}\n",
    "\n",
    "params = [{}, params_ridge, params_svr, params_forest, params_boosting, params_mlp, {}]\n",
    "rmse_tuned = [tune_hyperparams(models[i], X_scaled, y, params[i]) for i in range(len(models))]\n",
    "\n",
    "barplot_rmse(rmse_tuned, labels, 'synth_tuned')"
   ]
  },
  {
   "cell_type": "code",
   "execution_count": null,
   "metadata": {},
   "outputs": [],
   "source": []
  }
 ],
 "metadata": {
  "kernelspec": {
   "display_name": "Python 3",
   "language": "python",
   "name": "python3"
  },
  "language_info": {
   "codemirror_mode": {
    "name": "ipython",
    "version": 3
   },
   "file_extension": ".py",
   "mimetype": "text/x-python",
   "name": "python",
   "nbconvert_exporter": "python",
   "pygments_lexer": "ipython3",
   "version": "3.6.2"
  }
 },
 "nbformat": 4,
 "nbformat_minor": 4
}
