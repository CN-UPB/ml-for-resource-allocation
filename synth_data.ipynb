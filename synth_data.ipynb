{
 "cells": [
  {
   "cell_type": "markdown",
   "metadata": {},
   "source": [
    "# Synthetic VNF Data\n",
    "\n",
    "Gen synth data and fit multiple models agains it"
   ]
  },
  {
   "cell_type": "code",
   "execution_count": 9,
   "metadata": {},
   "outputs": [],
   "source": [
    "import warnings\n",
    "warnings.simplefilter(action='ignore', category=FutureWarning)\n",
    "\n",
    "import math\n",
    "import pandas as pd\n",
    "import numpy as np\n",
    "import matplotlib.pyplot as plt\n",
    "import seaborn as sns\n",
    "import joblib\n",
    "\n",
    "from sklearn.model_selection import KFold, train_test_split, cross_val_score, GridSearchCV\n",
    "from sklearn.linear_model import LinearRegression, Ridge\n",
    "from sklearn.ensemble import RandomForestRegressor, GradientBoostingRegressor\n",
    "from sklearn.svm import SVR\n",
    "from sklearn.neural_network import MLPRegressor\n",
    "from sklearn.preprocessing import LabelEncoder, StandardScaler, PolynomialFeatures\n",
    "from sklearn.model_selection import train_test_split\n",
    "from sklearn.preprocessing import MinMaxScaler\n",
    "from sklearn.metrics import mean_squared_error\n",
    "\n",
    "%matplotlib inline\n",
    "\n",
    "sns.set(font_scale=1.2)\n",
    "sns.set_style(\"white\")"
   ]
  },
  {
   "cell_type": "code",
   "execution_count": 3,
   "metadata": {},
   "outputs": [],
   "source": [
    "# define column names\n",
    "cpu_col = 'Resource req. [e.g., CPU]'\n",
    "thr_col = 'Traffic load [e.g., Mbit/s]'"
   ]
  },
  {
   "cell_type": "code",
   "execution_count": 4,
   "metadata": {},
   "outputs": [],
   "source": [
    "# generate synthetic data\n",
    "def gen_benchmark(cpu, coeff1=1, coeff2=1):\n",
    "    \"\"\"Generate max throughput for given CPU time according to log function\"\"\"\n",
    "    return coeff1 * math.log2(1 + coeff2 * cpu)\n",
    "\n",
    "def synthetic_benchmark():\n",
    "    \"\"\"Generate synthetic benchmark results for CPU time 0-100%\"\"\"\n",
    "    cpu_list = np.arange(0.1, 1, .01)\n",
    "    data = []\n",
    "    for cpu in cpu_list:\n",
    "        data.append([cpu, gen_benchmark(cpu, coeff2=100)])\n",
    "    return pd.DataFrame(data, columns=[cpu_col, thr_col])\n",
    "\n",
    "# inverse function to calculate cpu given a throughput\n",
    "def inverse(thru, coeff2=1):\n",
    "    return (1/coeff2) * (2**thru - 1)"
   ]
  },
  {
   "cell_type": "code",
   "execution_count": 5,
   "metadata": {},
   "outputs": [],
   "source": [
    "# process data\n",
    "df = synthetic_benchmark()\n",
    "X = df[[thr_col]]\n",
    "y = df[cpu_col]\n",
    "# scaler = MinMaxScaler(feature_range=(0, 1))\n",
    "# scaler.fit(X)\n",
    "# X_scaled = scaler.transform(X)"
   ]
  },
  {
   "cell_type": "code",
   "execution_count": 11,
   "metadata": {},
   "outputs": [],
   "source": [
    "def cross_validation_rmse(model, X, y, k=5, save_model=False):\n",
    "    \"\"\"Do k-fold CV and return the avg RMSE on the validation set. Train and save the model.\"\"\"\n",
    "    scores = cross_val_score(model, X, y, scoring=\"neg_mean_squared_error\", cv=k)\n",
    "    rmse = np.sqrt(-scores)\n",
    "    name = type(model).__name__\n",
    "    print(f\"CV RMSE of {name}: {rmse.mean()} (+/-{rmse.std()})\")  \n",
    "    if save_model:\n",
    "        model.fit(X, y)\n",
    "        joblib.dump(model, f'ml_models/synth_data/{name}.joblib')\n",
    "    return rmse \n",
    "\n",
    "def barplot_rmse(scores, labels, data_name):\n",
    "    \"\"\"bar plot comparing the RMSE of the different algorithms\"\"\"\n",
    "    assert len(scores) == len(labels)\n",
    "    \n",
    "    # preparation\n",
    "    rmse_mean = [s.mean() for s in scores]\n",
    "    rmse_std = [s.std() for s in scores]\n",
    "    x = np.arange(len(labels))\n",
    "\n",
    "    # plot\n",
    "    fig, ax = plt.subplots()\n",
    "    plt.bar(x, rmse_mean, color='grey', yerr=rmse_std, capsize=5)\n",
    "\n",
    "    # labels\n",
    "    ax.set_xlabel('Machine learning models')\n",
    "    ax.set_ylabel('RMSE')\n",
    "    ax.set_xticks(x)\n",
    "    ax.set_xticklabels(labels)\n",
    "    \n",
    "    fig.savefig(f'plots/{data_name}_rmse.pdf', bbox_inches='tight')"
   ]
  },
  {
   "cell_type": "code",
   "execution_count": 12,
   "metadata": {},
   "outputs": [
    {
     "name": "stdout",
     "output_type": "stream",
     "text": [
      "CV RMSE of LinearRegression: 0.12121162713679334 (+/-0.0834142420571489)\n",
      "CV RMSE of Ridge: 0.1157083036553567 (+/-0.07204672163128789)\n",
      "CV RMSE of SVR: 0.15772899390054107 (+/-0.08774146778153001)\n",
      "CV RMSE of RandomForestRegressor: 0.07805895964923279 (+/-0.027179014302940296)\n",
      "CV RMSE of GradientBoostingRegressor: 0.07805364007331642 (+/-0.025433426403506574)\n",
      "CV RMSE of MLPRegressor: 0.16670438929384174 (+/-0.0991695183429542)\n"
     ]
    },
    {
     "data": {
      "image/png": "[encoded data removed]",
      "text/plain": [
       "<Figure size 432x288 with 1 Axes>"
      ]
     },
     "metadata": {},
     "output_type": "display_data"
    }
   ],
   "source": [
    "models = [LinearRegression(), Ridge(), SVR(), RandomForestRegressor(), \n",
    "          GradientBoostingRegressor(), MLPRegressor()]\n",
    "labels = ['Linear', 'Ridge', 'SVR', 'Forest', 'Boosting', 'MLP']\n",
    "rmse = [cross_validation_rmse(model, X, y) for model in models]\n",
    "\n",
    "barplot_rmse(rmse, labels, 'synth')"
   ]
  },
  {
   "cell_type": "code",
   "execution_count": null,
   "metadata": {},
   "outputs": [],
   "source": []
  }
 ],
 "metadata": {
  "kernelspec": {
   "display_name": "Python 3",
   "language": "python",
   "name": "python3"
  },
  "language_info": {
   "codemirror_mode": {
    "name": "ipython",
    "version": 3
   },
   "file_extension": ".py",
   "mimetype": "text/x-python",
   "name": "python",
   "nbconvert_exporter": "python",
   "pygments_lexer": "ipython3",
   "version": "3.6.2"
  }
 },
 "nbformat": 4,
 "nbformat_minor": 4
}
