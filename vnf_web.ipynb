{
 "cells": [
  {
   "cell_type": "code",
   "execution_count": 1,
   "metadata": {},
   "outputs": [],
   "source": [
    "import warnings\n",
    "warnings.simplefilter(action='ignore', category=FutureWarning)\n",
    "\n",
    "import os\n",
    "import pandas as pd\n",
    "import numpy as np\n",
    "import matplotlib.pyplot as plt\n",
    "import seaborn as sns\n",
    "import joblib\n",
    "\n",
    "from sklearn.base import BaseEstimator\n",
    "from sklearn.model_selection import KFold, train_test_split, cross_val_score, GridSearchCV\n",
    "from sklearn.linear_model import LinearRegression, Ridge\n",
    "from sklearn.ensemble import RandomForestRegressor, GradientBoostingRegressor\n",
    "from sklearn.svm import SVR\n",
    "from sklearn.neural_network import MLPRegressor\n",
    "from sklearn.preprocessing import LabelEncoder, StandardScaler, PolynomialFeatures\n",
    "from sklearn.model_selection import train_test_split\n",
    "from sklearn.preprocessing import MinMaxScaler\n",
    "from sklearn.metrics import mean_squared_error\n",
    "\n",
    "sns.set(font_scale=3, style='white')"
   ]
  },
  {
   "cell_type": "code",
   "execution_count": 2,
   "metadata": {},
   "outputs": [],
   "source": [
    "class FixedModel(BaseEstimator):\n",
    "    \"\"\"\n",
    "    sklearn model of the fixed model, \n",
    "    always allocating/predicting a fixed, pre-defined amount of resources.\n",
    "    For use in sklearn functions like k-fold CV\n",
    "    \"\"\"\n",
    "    def __init__(self, fixed_value):\n",
    "        self.fixed_value = fixed_value\n",
    "        \n",
    "    def fit(self, X, y):\n",
    "        \"\"\"There's nothing to fit here\"\"\"\n",
    "        return self\n",
    "    \n",
    "    def predict(self, X):\n",
    "        \"\"\"Always 'predict' the specified fixed value\"\"\"\n",
    "        n_samples = X.shape[0]\n",
    "        return [self.fixed_value for _ in range(n_samples)]"
   ]
  },
  {
   "cell_type": "code",
   "execution_count": 3,
   "metadata": {},
   "outputs": [],
   "source": [
    "# function for processing and simplifying the dataset\n",
    "def select_and_rename(df, mapping):\n",
    "    \"\"\"\n",
    "    Helper: Selects columns of df using the keys of the mapping dict.\n",
    "    It renames the columns to the values of the mappings dict.\n",
    "    \"\"\"\n",
    "    # select subset of columns\n",
    "    dff = df[list(mapping.keys())]\n",
    "    # rename \n",
    "    for k, v in mapping.items():\n",
    "        dff.rename(columns={k: v}, inplace=True)\n",
    "    return dff\n",
    "\n",
    "def replaceSize(df):\n",
    "    df[\"size\"] = df[\"size\"].str.replace(\"ab -c 1 -t 60 -n 99999999 -e /tngbench_share/ab_dist.csv -s 60 -k -i http://20.0.0.254:8888/\", \"small\")\n",
    "    df[\"size\"] = df[\"size\"].str.replace(\"ab -c 1 -t 60 -n 99999999 -e /tngbench_share/ab_dist.csv -s 60 -k http://20.0.0.254:8888/bunny.mp4\", \"big\")\n",
    "    df[\"size\"] = df[\"size\"].str.replace(\"ab -c 1 -t 60 -n 99999999 -e /tngbench_share/ab_dist.csv -s 60 -k -i -X 20.0.0.254:3128 http://40.0.0.254:80/\", \"small\")\n",
    "    df[\"size\"] = df[\"size\"].str.replace(\"ab -c 1 -t 60 -n 99999999 -e /tngbench_share/ab_dist.csv -s 60 -k -X 20.0.0.254:3128 http://40.0.0.254:80/bunny.mp4\", \"big\")\n",
    "    return df"
   ]
  },
  {
   "cell_type": "code",
   "execution_count": 4,
   "metadata": {},
   "outputs": [
    {
     "name": "stderr",
     "output_type": "stream",
     "text": [
      "c:\\users\\stefan\\git-repos\\work\\ai\\venv\\lib\\site-packages\\pandas\\core\\frame.py:3781: SettingWithCopyWarning: \n",
      "A value is trying to be set on a copy of a slice from a DataFrame\n",
      "\n",
      "See the caveats in the documentation: http://pandas.pydata.org/pandas-docs/stable/indexing.html#indexing-view-versus-copy\n",
      "  return super(DataFrame, self).rename(**kwargs)\n"
     ]
    }
   ],
   "source": [
    "# Load data from path\n",
    "web1 = pd.read_csv(\"vnf_data/csv_experiments_WEB1.csv\")\n",
    "web2 = pd.read_csv(\"vnf_data/csv_experiments_WEB2.csv\")\n",
    "web3 = pd.read_csv(\"vnf_data/csv_experiments_WEB3.csv\")\n",
    "\n",
    "# do processing, renaming and selection\n",
    "mapping = {\n",
    "    \"param__func__mp.input__cmd_start\": \"size\",\n",
    "    \"metric__mp.input.vdu01.0__ab_transfer_rate_kbyte_per_second\": \"Max. throughput [kB/s]\",\n",
    "}\n",
    "\n",
    "mapping01 = mapping.copy()\n",
    "mapping01[\"param__func__de.upb.lb-nginx.0.1__cpu_bw\"] = \"CPU\"\n",
    "mapping01[\"param__func__de.upb.lb-nginx.0.1__mem_max\"] = \"Memory\"\n",
    "\n",
    "mapping02 = mapping.copy()\n",
    "mapping02[\"param__func__de.upb.lb-haproxy.0.1__cpu_bw\"] = \"CPU\"\n",
    "mapping02[\"param__func__de.upb.lb-haproxy.0.1__mem_max\"] = \"Memory\"\n",
    "\n",
    "mapping03 = mapping.copy()\n",
    "mapping03[\"param__func__de.upb.px-squid.0.1__cpu_bw\"] = \"CPU\"\n",
    "mapping03[\"param__func__de.upb.px-squid.0.1__mem_max\"] = \"Memory\"\n",
    "\n",
    "web1 = select_and_rename(web1, mapping01)\n",
    "web2 = select_and_rename(web2, mapping02)\n",
    "web3 = select_and_rename(web3, mapping03)\n",
    "\n",
    "web1 = replaceSize(web1)\n",
    "web2 = replaceSize(web2)\n",
    "web3 = replaceSize(web3)"
   ]
  },
  {
   "cell_type": "code",
   "execution_count": 5,
   "metadata": {},
   "outputs": [],
   "source": [
    "# select sub-datasets with small and large flows\n",
    "# and with specific memory\n",
    "mem = 128\n",
    "\n",
    "web1_small = web1.loc[(web1[\"size\"] == \"small\") & (web1[\"Memory\"] == mem)]\n",
    "web1_small = web1_small[[\"Max. throughput [kB/s]\", \"CPU\"]]\n",
    "web1_big = web1.loc[(web1[\"size\"] == \"big\")  & (web1[\"Memory\"] == mem)]\n",
    "web1_big = web1_big[[\"Max. throughput [kB/s]\", \"CPU\"]]\n",
    "\n",
    "web2_small = web2.loc[(web2[\"size\"] == \"small\")  & (web2[\"Memory\"] == mem)]\n",
    "web2_small = web2_small[[\"Max. throughput [kB/s]\", \"CPU\"]]\n",
    "web2_big = web2.loc[(web2[\"size\"] == \"big\")  & (web2[\"Memory\"] == mem)]\n",
    "web2_big = web2_big[[\"Max. throughput [kB/s]\", \"CPU\"]]\n",
    "\n",
    "web3_small = web3.loc[(web3[\"size\"] == \"small\")  & (web3[\"Memory\"] == mem)]\n",
    "web3_small = web3_small[[\"Max. throughput [kB/s]\", \"CPU\"]]\n",
    "web3_big = web3.loc[(web3[\"size\"] == \"big\")  & (web3[\"Memory\"] == mem)]\n",
    "web3_big = web3_big[[\"Max. throughput [kB/s]\", \"CPU\"]]"
   ]
  },
  {
   "cell_type": "code",
   "execution_count": 6,
   "metadata": {},
   "outputs": [
    {
     "data": {
      "text/plain": [
       "(20, 2)"
      ]
     },
     "execution_count": 6,
     "metadata": {},
     "output_type": "execute_result"
    }
   ],
   "source": [
    "# 20 measurements per CPU config from 0.1 to 1.0\n",
    "web1_small[web1_small[\"CPU\"] == 0.5].shape"
   ]
  },
  {
   "cell_type": "code",
   "execution_count": 7,
   "metadata": {},
   "outputs": [],
   "source": [
    "# add 20 \"measurements\" at 0 CPU and throuhgput\n",
    "num_measures = 20\n",
    "measures = [0 for _ in range(num_measures)]\n",
    "\n",
    "web1_small = web1_small.append(pd.DataFrame({'Max. throughput [kB/s]': measures, 'CPU': measures}), ignore_index=True)\n",
    "web1_big = web1_big.append(pd.DataFrame({'Max. throughput [kB/s]': measures, 'CPU': measures}), ignore_index=True)\n",
    "web2_small = web2_small.append(pd.DataFrame({'Max. throughput [kB/s]': measures, 'CPU': measures}), ignore_index=True)\n",
    "web2_big = web2_big.append(pd.DataFrame({'Max. throughput [kB/s]': measures, 'CPU': measures}), ignore_index=True)\n",
    "web3_small = web3_small.append(pd.DataFrame({'Max. throughput [kB/s]': measures, 'CPU': measures}), ignore_index=True)\n",
    "web3_big = web3_big.append(pd.DataFrame({'Max. throughput [kB/s]': measures, 'CPU': measures}), ignore_index=True)"
   ]
  },
  {
   "cell_type": "code",
   "execution_count": 8,
   "metadata": {},
   "outputs": [],
   "source": [
    "# rename\n",
    "nginx = web1_small\n",
    "haproxy = web2_small\n",
    "squid = web3_small"
   ]
  },
  {
   "cell_type": "code",
   "execution_count": 9,
   "metadata": {},
   "outputs": [
    {
     "data": {
      "image/png": "[encoded data removed]",
      "text/plain": [
       "<Figure size 432x288 with 1 Axes>"
      ]
     },
     "metadata": {},
     "output_type": "display_data"
    }
   ],
   "source": [
    "# proper plotting of VNF data for paper\n",
    "# only use data with small flows\n",
    "def plot_vnf_data():\n",
    "    sns.set(font_scale=1.5, style='white')\n",
    "    fig, ax = plt.subplots()\n",
    "    plt.scatter(nginx['Max. throughput [kB/s]'], nginx['CPU'], label='Nginx', marker='.')\n",
    "    plt.scatter(haproxy['Max. throughput [kB/s]'], haproxy['CPU'], label='HAProxy', marker='+')\n",
    "    plt.scatter(squid['Max. throughput [kB/s]'], squid['CPU'], label='Squid', marker='x')\n",
    "\n",
    "    # labels\n",
    "    ax.set_xlabel('Max. throughput [kB/s]')\n",
    "    ax.set_ylabel('CPU')\n",
    "    plt.legend()\n",
    "    \n",
    "    fig.savefig(f'plots/web_vnf_data.pdf', bbox_inches='tight')\n",
    "    \n",
    "plot_vnf_data()"
   ]
  },
  {
   "cell_type": "code",
   "execution_count": 10,
   "metadata": {},
   "outputs": [],
   "source": [
    "def cross_validation_rmse(model, X, y, vnf_name, k=5, save_model=False):\n",
    "    \"\"\"Do k-fold CV and return the avg RMSE on the validation set. Train and save the model.\"\"\"\n",
    "    scores = cross_val_score(model, X, y, scoring=\"neg_mean_squared_error\", cv=k)\n",
    "    rmse = np.sqrt(-scores)\n",
    "    name = type(model).__name__\n",
    "    print(f\"CV RMSE of {name}: {rmse.mean()} (+/-{rmse.std()})\")  \n",
    "    if save_model:\n",
    "        model.fit(X, y)\n",
    "        joblib.dump(model, f'ml_models/{vnf_name}/{name}.joblib')\n",
    "    return rmse \n",
    "\n",
    "def tune_hyperparams(model, X, y, params):\n",
    "    \"\"\"Do grid search CV for hyperparam tuning and return CV RMSE\"\"\"\n",
    "    grid_search = GridSearchCV(model, params, cv=5, scoring=\"neg_mean_squared_error\")\n",
    "    grid_search.fit(X, y)   \n",
    "    return grid_search.best_estimator_\n",
    "\n",
    "def barplot_rmse(scores, labels, data_name):\n",
    "    \"\"\"bar plot comparing the RMSE of the different algorithms\"\"\"\n",
    "    sns.set(font_scale=3, style='white')\n",
    "    assert len(scores) == len(labels)\n",
    "    \n",
    "    # preparation\n",
    "    rmse_mean = [s.mean() for s in scores]\n",
    "    rmse_std = [s.std() for s in scores]\n",
    "    x = np.arange(len(labels))\n",
    "\n",
    "    # plot\n",
    "    fig, ax = plt.subplots(figsize = (8, 6))\n",
    "    plt.barh(x, rmse_mean, color='grey', xerr=rmse_std, capsize=5)\n",
    "\n",
    "    # labels\n",
    "    ax.set_xlabel('RMSE')\n",
    "    ax.set_yticks(x)\n",
    "    ax.set_yticklabels(labels)\n",
    "    \n",
    "    fig.savefig(f'plots/{data_name}_rmse.pdf', bbox_inches='tight')"
   ]
  },
  {
   "cell_type": "code",
   "execution_count": 11,
   "metadata": {},
   "outputs": [],
   "source": [
    "def train_eval_models(X, y, vnf_name, tune_params=False):\n",
    "    \"\"\"Create, tune, eval, and return all ML models\"\"\"\n",
    "    # prepare models\n",
    "    labels = ['Linear', 'Ridge', 'SVR', 'Forest', 'Boosting', 'MLP', 'Fixed']\n",
    "    models = [LinearRegression(), Ridge(), SVR(), RandomForestRegressor(), \n",
    "              GradientBoostingRegressor(), MLPRegressor(max_iter=1500), \n",
    "              FixedModel(fixed_value=0.8)]\n",
    "    \n",
    "    # params for tuning\n",
    "    params_ridge = {'alpha': [0.1, 1, 10]}\n",
    "    params_svr = {'kernel': ['linear', 'poly', 'rbf'], 'C': [1, 10, 100], \n",
    "                  'epsilon': [0.001, 0.01, 0.1]}\n",
    "    params_forest = {'n_estimators': [10, 100, 200]}\n",
    "    params_boosting = {'learning_rate': [0.01, 0.1, 0.3], 'n_estimators': [10, 100, 200]}\n",
    "    params_mlp = {'hidden_layer_sizes': [(64,), (128,), (256)], 'alpha': [0.001, 0.0001, 0.00001],\n",
    "                  'learning_rate_init': [0.01, 0.001, 0.0001]}\n",
    "    params = [{}, params_ridge, params_svr, params_forest, params_boosting, params_mlp, {}]\n",
    "    \n",
    "    # tune, train, eval\n",
    "    if tune_params:\n",
    "        models = [tune_hyperparams(models[i], X, y, params[i]) for i in range(len(models))]\n",
    "    rmse = [cross_validation_rmse(model, X, y, vnf_name, save_model=True) for model in models]\n",
    "    \n",
    "    # plot\n",
    "    if tune_params:\n",
    "        barplot_rmse(rmse, labels, f'{vnf_name}_tuned')\n",
    "    else:\n",
    "        barplot_rmse(rmse, labels, f'{vnf_name}_default')\n",
    "        \n",
    "    return models"
   ]
  },
  {
   "cell_type": "code",
   "execution_count": 12,
   "metadata": {},
   "outputs": [],
   "source": [
    "def prepare_data(data, vnf_name):\n",
    "    \"\"\"Split return data\"\"\"\n",
    "    X = data[['Max. throughput [kB/s]']]\n",
    "    y = data['CPU']\n",
    "    X = X.fillna(X.median())\n",
    "\n",
    "    scaler = MinMaxScaler()\n",
    "    scaler.fit(X)\n",
    "    os.makedirs(f'ml_models/{vnf_name}', exist_ok=True)\n",
    "    joblib.dump(scaler, f'ml_models/{vnf_name}/scaler.joblib')\n",
    "    \n",
    "    return X, y, scaler"
   ]
  },
  {
   "cell_type": "code",
   "execution_count": 13,
   "metadata": {},
   "outputs": [],
   "source": [
    "def predict_plot_all(models, scaler, X, y, vnf_name):\n",
    "    \"\"\"Given a list of models, fit all to the data, save model, and plot their predictions\"\"\"\n",
    "    sns.set(font_scale=1.5, style='white')\n",
    "    \n",
    "    models = [models[0], models[2], models[3], models[6]]\n",
    "    labels = ['Linear', 'SVR', 'Boosting', 'Fixed']\n",
    "    markers = ['x', 'v', '^', '+']\n",
    "    colors = ['blue', 'orange', 'red', 'green']\n",
    "    \n",
    "    fig, ax = plt.subplots()    \n",
    "    plt.scatter(X, y, label='True', marker='o', color='black', s=50)\n",
    "    X = scaler.transform(X)\n",
    "    for i, model in enumerate(models):\n",
    "        # train model\n",
    "        name = type(model).__name__\n",
    "        model.fit(X, y)\n",
    "        os.makedirs(f'ml_models/{vnf_name}', exist_ok=True)\n",
    "        # predict and plot data\n",
    "        X_plot = pd.DataFrame({'Max. throughput [kB/s]': np.arange(200, 2500, 50)})\n",
    "        X_plot_scaled = scaler.transform(X_plot)\n",
    "        y_pred = model.predict(X_plot_scaled)\n",
    "        plt.scatter(X_plot, y_pred, label=labels[i], marker=markers[i], color=colors[i])\n",
    "    plt.xlabel('Max. throughput [kB/s]')\n",
    "    plt.ylabel('CPU')\n",
    "    plt.legend()\n",
    "    # save, avoid cutting off labels\n",
    "    plt.tight_layout()\n",
    "    fig.savefig(f'plots/{vnf_name}_model_comparison.pdf')"
   ]
  },
  {
   "cell_type": "code",
   "execution_count": 14,
   "metadata": {},
   "outputs": [],
   "source": [
    "# vnf_name = 'nginx'\n",
    "# X, y, scaler = prepare_data(nginx, vnf_name)\n",
    "\n",
    "# # CV without scaling and hyperparam tuning\n",
    "# train_eval_models(X, y, vnf_name, tune_params=False)\n",
    "# # with scaling, but without hyperparam tuning\n",
    "# train_eval_models(scaler.transform(X), y, vnf_name, tune_params=False)\n",
    "# # with scaling and tuning\n",
    "# models = train_eval_models(scaler.transform(X), y, vnf_name, tune_params=True)\n",
    "\n",
    "# predict_plot_all(models, scaler, X, y, vnf_name)"
   ]
  },
  {
   "cell_type": "code",
   "execution_count": 15,
   "metadata": {},
   "outputs": [],
   "source": [
    "# vnf_name = 'squid'\n",
    "# X, y, scaler = prepare_data(squid, vnf_name)\n",
    "\n",
    "# # CV without scaling and hyperparam tuning\n",
    "# train_eval_models(X, y, vnf_name, tune_params=False)\n",
    "# # with scaling, but without hyperparam tuning\n",
    "# train_eval_models(scaler.transform(X), y, vnf_name, tune_params=False)\n",
    "# # with scaling and tuning\n",
    "# # this takes really long; not sure why\n",
    "# models = train_eval_models(scaler.transform(X), y, vnf_name, tune_params=True)\n",
    "\n",
    "# predict_plot_all(models, scaler, X, y, vnf_name)"
   ]
  },
  {
   "cell_type": "code",
   "execution_count": 16,
   "metadata": {},
   "outputs": [],
   "source": [
    "def barplot_compare_rmse(scores_default, scores_tuned, labels, data_name):\n",
    "    \"\"\"\n",
    "    bar plot comparing the RMSE of the different algorithms also compare against tuned version of algorithms    \n",
    "    \"\"\"\n",
    "    sns.set(font_scale=1.5, style='white')\n",
    "    assert len(scores_default) == len(scores_tuned) == len(labels)\n",
    "    \n",
    "    x = np.arange(len(labels))\n",
    "    width = 0.35\n",
    "\n",
    "    # plot\n",
    "    fig, ax = plt.subplots(figsize = (8, 5))\n",
    "    \n",
    "    # default\n",
    "    rmse_mean = [s.mean() for s in scores_default]\n",
    "    rmse_std = [s.std() for s in scores_default]\n",
    "    plt.bar(x - width/2, rmse_mean, width, yerr=rmse_std, capsize=5, color='gray', label='Default')\n",
    "    \n",
    "    # same for tuned version\n",
    "    rmse_mean = [s.mean() for s in scores_tuned]\n",
    "    rmse_std = [s.std() for s in scores_tuned]\n",
    "    plt.bar(x + width/2, rmse_mean, width, yerr=rmse_std, capsize=5, color='lightgray', label='Tuned')\n",
    "        \n",
    "    # labels\n",
    "    ax.set_ylabel('RMSE')\n",
    "    ax.set_xticks(x)\n",
    "    ax.set_xticklabels(labels)\n",
    "    ax.legend()\n",
    "    \n",
    "    fig.savefig(f'plots/{data_name}_rmse.pdf', bbox_inches='tight')"
   ]
  },
  {
   "cell_type": "code",
   "execution_count": 17,
   "metadata": {},
   "outputs": [],
   "source": [
    "def train_tune_eval_models(X, y, vnf_name):\n",
    "    \"\"\"Create, tune, eval, and return all ML models - compare default vs tuned performance\"\"\"\n",
    "    # prepare models and rmse without tuning\n",
    "    labels = ['Linear', 'Ridge', 'SVR', 'Forest', 'Boosting', 'MLP', 'Fixed']\n",
    "    models_default = [LinearRegression(), Ridge(), SVR(), RandomForestRegressor(), \n",
    "              GradientBoostingRegressor(), MLPRegressor(max_iter=1500), \n",
    "              FixedModel(fixed_value=0.8)]\n",
    "    rmse_default = [cross_validation_rmse(model, X, y, vnf_name, save_model=False) for model in models_default]\n",
    "    \n",
    "    # hyperparam tuning\n",
    "    params_ridge = {'alpha': [0.1, 1, 10]}\n",
    "    params_svr = {'kernel': ['poly', 'rbf'], 'C': [1, 10, 100], \n",
    "                  'epsilon': [0.001, 0.01, 0.1]}\n",
    "    params_forest = {'n_estimators': [10, 100, 200]}\n",
    "    params_boosting = {'learning_rate': [0.01, 0.1, 0.3], 'n_estimators': [10, 100, 200]}\n",
    "    params_mlp = {'hidden_layer_sizes': [(64,), (128,), (256)], 'alpha': [0.001, 0.0001, 0.00001],\n",
    "                  'learning_rate_init': [0.01, 0.001, 0.0001]}\n",
    "    params = [{}, params_ridge, params_svr, params_forest, params_boosting, params_mlp, {}]\n",
    "\n",
    "    models_tuned = [tune_hyperparams(models_default[i], X, y, params[i]) for i in range(len(labels))]\n",
    "#     models_tuned = [tune_hyperparams(models_default[i], X, y, {}) for i in range(len(labels))]\n",
    "    rmse_tuned = [cross_validation_rmse(model, X, y, vnf_name, save_model=True) for model in models_tuned]\n",
    "    \n",
    "    # plot and compare\n",
    "    barplot_compare_rmse(rmse_default, rmse_tuned, labels, f'{vnf_name}_default-tuned')\n",
    "        \n",
    "    return models_tuned"
   ]
  },
  {
   "cell_type": "code",
   "execution_count": 18,
   "metadata": {},
   "outputs": [
    {
     "name": "stdout",
     "output_type": "stream",
     "text": [
      "CV RMSE of LinearRegression: 0.19651294327683955 (+/-0.0770302015503735)\n",
      "CV RMSE of Ridge: 0.19747963738692514 (+/-0.07374557483743582)\n",
      "CV RMSE of SVR: 0.23843849102511663 (+/-0.03133600651863603)\n",
      "CV RMSE of RandomForestRegressor: 0.15335165129400546 (+/-0.041712718005202556)\n",
      "CV RMSE of GradientBoostingRegressor: 0.15532875692425963 (+/-0.04397880798814986)\n",
      "CV RMSE of MLPRegressor: 0.20829929111699394 (+/-0.06669724381073605)\n",
      "CV RMSE of FixedModel: 0.38153965300099446 (+/-0.21077830340877302)\n",
      "CV RMSE of LinearRegression: 0.19651294327683955 (+/-0.0770302015503735)\n",
      "CV RMSE of Ridge: 0.19747963738692514 (+/-0.07374557483743582)\n",
      "CV RMSE of SVR: 0.1829420132476261 (+/-0.08049356087609329)\n",
      "CV RMSE of RandomForestRegressor: 0.1533269558613778 (+/-0.0418474822169659)\n",
      "CV RMSE of GradientBoostingRegressor: 0.14334186263227305 (+/-0.0379499323771591)\n",
      "CV RMSE of MLPRegressor: 0.182369543849143 (+/-0.061033343280167726)\n",
      "CV RMSE of FixedModel: 0.38153965300099446 (+/-0.21077830340877302)\n"
     ]
    },
    {
     "data": {
      "text/plain": [
       "[LinearRegression(copy_X=True, fit_intercept=True, n_jobs=None, normalize=False),\n",
       " Ridge(alpha=1, copy_X=True, fit_intercept=True, max_iter=None, normalize=False,\n",
       "       random_state=None, solver='auto', tol=0.001),\n",
       " SVR(C=10, cache_size=200, coef0=0.0, degree=3, epsilon=0.01,\n",
       "     gamma='auto_deprecated', kernel='rbf', max_iter=-1, shrinking=True,\n",
       "     tol=0.001, verbose=False),\n",
       " RandomForestRegressor(bootstrap=True, criterion='mse', max_depth=None,\n",
       "                       max_features='auto', max_leaf_nodes=None,\n",
       "                       min_impurity_decrease=0.0, min_impurity_split=None,\n",
       "                       min_samples_leaf=1, min_samples_split=2,\n",
       "                       min_weight_fraction_leaf=0.0, n_estimators=100,\n",
       "                       n_jobs=None, oob_score=False, random_state=None,\n",
       "                       verbose=0, warm_start=False),\n",
       " GradientBoostingRegressor(alpha=0.9, criterion='friedman_mse', init=None,\n",
       "                           learning_rate=0.3, loss='ls', max_depth=3,\n",
       "                           max_features=None, max_leaf_nodes=None,\n",
       "                           min_impurity_decrease=0.0, min_impurity_split=None,\n",
       "                           min_samples_leaf=1, min_samples_split=2,\n",
       "                           min_weight_fraction_leaf=0.0, n_estimators=10,\n",
       "                           n_iter_no_change=None, presort='auto',\n",
       "                           random_state=None, subsample=1.0, tol=0.0001,\n",
       "                           validation_fraction=0.1, verbose=0, warm_start=False),\n",
       " MLPRegressor(activation='relu', alpha=0.0001, batch_size='auto', beta_1=0.9,\n",
       "              beta_2=0.999, early_stopping=False, epsilon=1e-08,\n",
       "              hidden_layer_sizes=256, learning_rate='constant',\n",
       "              learning_rate_init=0.01, max_iter=1500, momentum=0.9,\n",
       "              n_iter_no_change=10, nesterovs_momentum=True, power_t=0.5,\n",
       "              random_state=None, shuffle=True, solver='adam', tol=0.0001,\n",
       "              validation_fraction=0.1, verbose=False, warm_start=False),\n",
       " FixedModel(fixed_value=0.8)]"
      ]
     },
     "execution_count": 18,
     "metadata": {},
     "output_type": "execute_result"
    },
    {
     "data": {
      "image/png": "[encoded data removed]",
      "text/plain": [
       "<Figure size 576x360 with 1 Axes>"
      ]
     },
     "metadata": {},
     "output_type": "display_data"
    }
   ],
   "source": [
    "vnf_name = 'nginx'\n",
    "X, y, scaler = prepare_data(nginx, vnf_name)\n",
    "X_scaled = scaler.transform(X)\n",
    "\n",
    "train_tune_eval_models(X_scaled, y, vnf_name)"
   ]
  },
  {
   "cell_type": "code",
   "execution_count": 19,
   "metadata": {},
   "outputs": [
    {
     "name": "stdout",
     "output_type": "stream",
     "text": [
      "CV RMSE of LinearRegression: 0.1007619172166632 (+/-0.048577241001214605)\n",
      "CV RMSE of Ridge: 0.09846542319497902 (+/-0.054905281452056726)\n",
      "CV RMSE of SVR: 0.1137247301735937 (+/-0.05484824766626287)\n",
      "CV RMSE of RandomForestRegressor: 0.14038107379597647 (+/-0.05236644945935821)\n",
      "CV RMSE of GradientBoostingRegressor: 0.14996980486497263 (+/-0.06365586377074277)\n",
      "CV RMSE of MLPRegressor: 0.122199030082541 (+/-0.04911636964407862)\n",
      "CV RMSE of FixedModel: 0.38153965300099446 (+/-0.21077830340877302)\n",
      "CV RMSE of LinearRegression: 0.1007619172166632 (+/-0.048577241001214605)\n",
      "CV RMSE of Ridge: 0.10041876270886689 (+/-0.049194687501504145)\n",
      "CV RMSE of SVR: 0.08072140672886818 (+/-0.05972576935870195)\n",
      "CV RMSE of RandomForestRegressor: 0.14672328564790718 (+/-0.060445356190912396)\n",
      "CV RMSE of GradientBoostingRegressor: 0.13021697559496673 (+/-0.056544387699958544)\n",
      "CV RMSE of MLPRegressor: 0.09207013907384357 (+/-0.049994064141358575)\n",
      "CV RMSE of FixedModel: 0.38153965300099446 (+/-0.21077830340877302)\n"
     ]
    },
    {
     "data": {
      "text/plain": [
       "[LinearRegression(copy_X=True, fit_intercept=True, n_jobs=None, normalize=False),\n",
       " Ridge(alpha=0.1, copy_X=True, fit_intercept=True, max_iter=None,\n",
       "       normalize=False, random_state=None, solver='auto', tol=0.001),\n",
       " SVR(C=10, cache_size=200, coef0=0.0, degree=3, epsilon=0.01,\n",
       "     gamma='auto_deprecated', kernel='rbf', max_iter=-1, shrinking=True,\n",
       "     tol=0.001, verbose=False),\n",
       " RandomForestRegressor(bootstrap=True, criterion='mse', max_depth=None,\n",
       "                       max_features='auto', max_leaf_nodes=None,\n",
       "                       min_impurity_decrease=0.0, min_impurity_split=None,\n",
       "                       min_samples_leaf=1, min_samples_split=2,\n",
       "                       min_weight_fraction_leaf=0.0, n_estimators=10,\n",
       "                       n_jobs=None, oob_score=False, random_state=None,\n",
       "                       verbose=0, warm_start=False),\n",
       " GradientBoostingRegressor(alpha=0.9, criterion='friedman_mse', init=None,\n",
       "                           learning_rate=0.01, loss='ls', max_depth=3,\n",
       "                           max_features=None, max_leaf_nodes=None,\n",
       "                           min_impurity_decrease=0.0, min_impurity_split=None,\n",
       "                           min_samples_leaf=1, min_samples_split=2,\n",
       "                           min_weight_fraction_leaf=0.0, n_estimators=200,\n",
       "                           n_iter_no_change=None, presort='auto',\n",
       "                           random_state=None, subsample=1.0, tol=0.0001,\n",
       "                           validation_fraction=0.1, verbose=0, warm_start=False),\n",
       " MLPRegressor(activation='relu', alpha=0.0001, batch_size='auto', beta_1=0.9,\n",
       "              beta_2=0.999, early_stopping=False, epsilon=1e-08,\n",
       "              hidden_layer_sizes=256, learning_rate='constant',\n",
       "              learning_rate_init=0.01, max_iter=1500, momentum=0.9,\n",
       "              n_iter_no_change=10, nesterovs_momentum=True, power_t=0.5,\n",
       "              random_state=None, shuffle=True, solver='adam', tol=0.0001,\n",
       "              validation_fraction=0.1, verbose=False, warm_start=False),\n",
       " FixedModel(fixed_value=0.8)]"
      ]
     },
     "execution_count": 19,
     "metadata": {},
     "output_type": "execute_result"
    },
    {
     "data": {
      "image/png": "[encoded data removed]",
      "text/plain": [
       "<Figure size 576x360 with 1 Axes>"
      ]
     },
     "metadata": {},
     "output_type": "display_data"
    }
   ],
   "source": [
    "vnf_name = 'squid'\n",
    "X, y, scaler = prepare_data(squid, vnf_name)\n",
    "X_scaled = scaler.transform(X)\n",
    "\n",
    "train_tune_eval_models(X_scaled, y, vnf_name)"
   ]
  },
  {
   "cell_type": "code",
   "execution_count": null,
   "metadata": {},
   "outputs": [],
   "source": []
  },
  {
   "cell_type": "code",
   "execution_count": null,
   "metadata": {},
   "outputs": [],
   "source": []
  }
 ],
 "metadata": {
  "kernelspec": {
   "display_name": "Python 3",
   "language": "python",
   "name": "python3"
  },
  "language_info": {
   "codemirror_mode": {
    "name": "ipython",
    "version": 3
   },
   "file_extension": ".py",
   "mimetype": "text/x-python",
   "name": "python",
   "nbconvert_exporter": "python",
   "pygments_lexer": "ipython3",
   "version": "3.6.2"
  }
 },
 "nbformat": 4,
 "nbformat_minor": 4
}
