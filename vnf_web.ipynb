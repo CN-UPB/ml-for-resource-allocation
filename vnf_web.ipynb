{
 "cells": [
  {
   "cell_type": "code",
   "execution_count": 373,
   "metadata": {},
   "outputs": [],
   "source": [
    "import warnings\n",
    "warnings.simplefilter(action='ignore', category=FutureWarning)\n",
    "\n",
    "import os\n",
    "import pandas as pd\n",
    "import numpy as np\n",
    "import matplotlib.pyplot as plt\n",
    "import seaborn as sns\n",
    "import joblib\n",
    "\n",
    "from sklearn.model_selection import KFold, train_test_split, cross_val_score, GridSearchCV\n",
    "from sklearn.linear_model import LinearRegression, Ridge\n",
    "from sklearn.ensemble import RandomForestRegressor, GradientBoostingRegressor\n",
    "from sklearn.svm import SVR\n",
    "from sklearn.neural_network import MLPRegressor\n",
    "from sklearn.preprocessing import LabelEncoder, StandardScaler, PolynomialFeatures\n",
    "from sklearn.model_selection import train_test_split\n",
    "from sklearn.preprocessing import MinMaxScaler\n",
    "from sklearn.metrics import mean_squared_error\n",
    "\n",
    "sns.set(font_scale=1.2)\n",
    "sns.set_style(\"white\")"
   ]
  },
  {
   "cell_type": "code",
   "execution_count": 374,
   "metadata": {},
   "outputs": [],
   "source": [
    "# function for processing and simplifying the dataset\n",
    "def select_and_rename(df, mapping):\n",
    "    \"\"\"\n",
    "    Helper: Selects columns of df using the keys of the mapping dict.\n",
    "    It renames the columns to the values of the mappings dict.\n",
    "    \"\"\"\n",
    "    # select subset of columns\n",
    "    dff = df[list(mapping.keys())]\n",
    "    # rename \n",
    "    for k, v in mapping.items():\n",
    "        dff.rename(columns={k: v}, inplace=True)\n",
    "    return dff\n",
    "\n",
    "def replaceSize(df):\n",
    "    df[\"size\"] = df[\"size\"].str.replace(\"ab -c 1 -t 60 -n 99999999 -e /tngbench_share/ab_dist.csv -s 60 -k -i http://20.0.0.254:8888/\", \"small\")\n",
    "    df[\"size\"] = df[\"size\"].str.replace(\"ab -c 1 -t 60 -n 99999999 -e /tngbench_share/ab_dist.csv -s 60 -k http://20.0.0.254:8888/bunny.mp4\", \"big\")\n",
    "    df[\"size\"] = df[\"size\"].str.replace(\"ab -c 1 -t 60 -n 99999999 -e /tngbench_share/ab_dist.csv -s 60 -k -i -X 20.0.0.254:3128 http://40.0.0.254:80/\", \"small\")\n",
    "    df[\"size\"] = df[\"size\"].str.replace(\"ab -c 1 -t 60 -n 99999999 -e /tngbench_share/ab_dist.csv -s 60 -k -X 20.0.0.254:3128 http://40.0.0.254:80/bunny.mp4\", \"big\")\n",
    "    return df"
   ]
  },
  {
   "cell_type": "code",
   "execution_count": 375,
   "metadata": {},
   "outputs": [
    {
     "name": "stderr",
     "output_type": "stream",
     "text": [
      "c:\\users\\stefan\\git-repos\\work\\ai\\venv\\lib\\site-packages\\pandas\\core\\frame.py:3781: SettingWithCopyWarning: \n",
      "A value is trying to be set on a copy of a slice from a DataFrame\n",
      "\n",
      "See the caveats in the documentation: http://pandas.pydata.org/pandas-docs/stable/indexing.html#indexing-view-versus-copy\n",
      "  return super(DataFrame, self).rename(**kwargs)\n"
     ]
    }
   ],
   "source": [
    "# Load data from path\n",
    "web1 = pd.read_csv(\"vnf_data/csv_experiments_WEB1.csv\")\n",
    "web2 = pd.read_csv(\"vnf_data/csv_experiments_WEB2.csv\")\n",
    "web3 = pd.read_csv(\"vnf_data/csv_experiments_WEB3.csv\")\n",
    "\n",
    "# do processing, renaming and selection\n",
    "web1[\"vnf\"] = \"nginx\"\n",
    "web2[\"vnf\"] = \"haproxy\"\n",
    "web3[\"vnf\"] = \"squid\"\n",
    "\n",
    "mapping = {\n",
    "    \"param__func__mp.input__cmd_start\": \"size\",\n",
    "    \"metric__mp.input.vdu01.0__ab_transfer_rate_kbyte_per_second\": \"Max. throughput [kB/s]\",\n",
    "}\n",
    "\n",
    "mapping01 = mapping.copy()\n",
    "mapping01[\"param__func__de.upb.lb-nginx.0.1__cpu_bw\"] = \"CPU\"\n",
    "mapping01[\"param__func__de.upb.lb-nginx.0.1__mem_max\"] = \"Memory\"\n",
    "\n",
    "mapping02 = mapping.copy()\n",
    "mapping02[\"param__func__de.upb.lb-haproxy.0.1__cpu_bw\"] = \"CPU\"\n",
    "mapping02[\"param__func__de.upb.lb-haproxy.0.1__mem_max\"] = \"Memory\"\n",
    "\n",
    "mapping03 = mapping.copy()\n",
    "mapping03[\"param__func__de.upb.px-squid.0.1__cpu_bw\"] = \"CPU\"\n",
    "mapping03[\"param__func__de.upb.px-squid.0.1__mem_max\"] = \"Memory\"\n",
    "\n",
    "web1 = select_and_rename(web1, mapping01)\n",
    "web2 = select_and_rename(web2, mapping02)\n",
    "web3 = select_and_rename(web3, mapping03)\n",
    "\n",
    "web1 = replaceSize(web1)\n",
    "web2 = replaceSize(web2)\n",
    "web3 = replaceSize(web3)"
   ]
  },
  {
   "cell_type": "code",
   "execution_count": 376,
   "metadata": {},
   "outputs": [],
   "source": [
    "# select sub-datasets with small and large flows\n",
    "# and with specific memory\n",
    "mem = 128\n",
    "\n",
    "web1_small = web1.loc[(web1[\"size\"] == \"small\") & (web1[\"Memory\"] == mem)]\n",
    "web1_small = web1_small[[\"Max. throughput [kB/s]\", \"CPU\"]]\n",
    "web1_big = web1.loc[(web1[\"size\"] == \"big\")  & (web1[\"Memory\"] == mem)]\n",
    "web1_big = web1_big[[\"Max. throughput [kB/s]\", \"CPU\"]]\n",
    "\n",
    "web2_small = web2.loc[(web2[\"size\"] == \"small\")  & (web2[\"Memory\"] == mem)]\n",
    "web2_small = web2_small[[\"Max. throughput [kB/s]\", \"CPU\"]]\n",
    "web2_big = web2.loc[(web2[\"size\"] == \"big\")  & (web2[\"Memory\"] == mem)]\n",
    "web2_big = web2_big[[\"Max. throughput [kB/s]\", \"CPU\"]]\n",
    "\n",
    "web3_small = web3.loc[(web3[\"size\"] == \"small\")  & (web3[\"Memory\"] == mem)]\n",
    "web3_small = web3_small[[\"Max. throughput [kB/s]\", \"CPU\"]]\n",
    "web3_big = web3.loc[(web3[\"size\"] == \"big\")  & (web3[\"Memory\"] == mem)]\n",
    "web3_big = web3_big[[\"Max. throughput [kB/s]\", \"CPU\"]]"
   ]
  },
  {
   "cell_type": "code",
   "execution_count": 377,
   "metadata": {},
   "outputs": [
    {
     "data": {
      "text/html": [
       "<div>\n",
       "<style scoped>\n",
       "    .dataframe tbody tr th:only-of-type {\n",
       "        vertical-align: middle;\n",
       "    }\n",
       "\n",
       "    .dataframe tbody tr th {\n",
       "        vertical-align: top;\n",
       "    }\n",
       "\n",
       "    .dataframe thead th {\n",
       "        text-align: right;\n",
       "    }\n",
       "</style>\n",
       "<table border=\"1\" class=\"dataframe\">\n",
       "  <thead>\n",
       "    <tr style=\"text-align: right;\">\n",
       "      <th></th>\n",
       "      <th>Max. throughput [kB/s]</th>\n",
       "      <th>CPU</th>\n",
       "    </tr>\n",
       "  </thead>\n",
       "  <tbody>\n",
       "    <tr>\n",
       "      <th>40</th>\n",
       "      <td>516.81</td>\n",
       "      <td>0.1</td>\n",
       "    </tr>\n",
       "    <tr>\n",
       "      <th>41</th>\n",
       "      <td>493.60</td>\n",
       "      <td>0.1</td>\n",
       "    </tr>\n",
       "    <tr>\n",
       "      <th>42</th>\n",
       "      <td>519.22</td>\n",
       "      <td>0.1</td>\n",
       "    </tr>\n",
       "    <tr>\n",
       "      <th>43</th>\n",
       "      <td>514.01</td>\n",
       "      <td>0.1</td>\n",
       "    </tr>\n",
       "    <tr>\n",
       "      <th>44</th>\n",
       "      <td>518.83</td>\n",
       "      <td>0.1</td>\n",
       "    </tr>\n",
       "  </tbody>\n",
       "</table>\n",
       "</div>"
      ],
      "text/plain": [
       "    Max. throughput [kB/s]  CPU\n",
       "40                  516.81  0.1\n",
       "41                  493.60  0.1\n",
       "42                  519.22  0.1\n",
       "43                  514.01  0.1\n",
       "44                  518.83  0.1"
      ]
     },
     "execution_count": 377,
     "metadata": {},
     "output_type": "execute_result"
    }
   ],
   "source": [
    "# web1_small.head()\n",
    "web1_small.head()"
   ]
  },
  {
   "cell_type": "code",
   "execution_count": 378,
   "metadata": {},
   "outputs": [
    {
     "data": {
      "text/plain": [
       "(20, 2)"
      ]
     },
     "execution_count": 378,
     "metadata": {},
     "output_type": "execute_result"
    }
   ],
   "source": [
    "# 20 measurements per CPU config from 0.1 to 1.0\n",
    "web1_small[web1_small[\"CPU\"] == 0.5].shape"
   ]
  },
  {
   "cell_type": "code",
   "execution_count": 379,
   "metadata": {},
   "outputs": [],
   "source": [
    "# add 20 \"measurements\" at 0 CPU and throuhgput\n",
    "num_measures = 20\n",
    "measures = [0 for _ in range(num_measures)]\n",
    "\n",
    "web1_small = web1_small.append(pd.DataFrame({'Max. throughput [kB/s]': measures, 'CPU': measures}), ignore_index=True)\n",
    "web1_big = web1_big.append(pd.DataFrame({'Max. throughput [kB/s]': measures, 'CPU': measures}), ignore_index=True)\n",
    "web2_small = web2_small.append(pd.DataFrame({'Max. throughput [kB/s]': measures, 'CPU': measures}), ignore_index=True)\n",
    "web2_big = web2_big.append(pd.DataFrame({'Max. throughput [kB/s]': measures, 'CPU': measures}), ignore_index=True)\n",
    "web3_small = web3_small.append(pd.DataFrame({'Max. throughput [kB/s]': measures, 'CPU': measures}), ignore_index=True)\n",
    "web3_big = web3_big.append(pd.DataFrame({'Max. throughput [kB/s]': measures, 'CPU': measures}), ignore_index=True)"
   ]
  },
  {
   "cell_type": "code",
   "execution_count": 380,
   "metadata": {},
   "outputs": [
    {
     "data": {
      "text/html": [
       "<div>\n",
       "<style scoped>\n",
       "    .dataframe tbody tr th:only-of-type {\n",
       "        vertical-align: middle;\n",
       "    }\n",
       "\n",
       "    .dataframe tbody tr th {\n",
       "        vertical-align: top;\n",
       "    }\n",
       "\n",
       "    .dataframe thead th {\n",
       "        text-align: right;\n",
       "    }\n",
       "</style>\n",
       "<table border=\"1\" class=\"dataframe\">\n",
       "  <thead>\n",
       "    <tr style=\"text-align: right;\">\n",
       "      <th></th>\n",
       "      <th>Max. throughput [kB/s]</th>\n",
       "      <th>CPU</th>\n",
       "    </tr>\n",
       "  </thead>\n",
       "  <tbody>\n",
       "    <tr>\n",
       "      <th>215</th>\n",
       "      <td>0.0</td>\n",
       "      <td>0.0</td>\n",
       "    </tr>\n",
       "    <tr>\n",
       "      <th>216</th>\n",
       "      <td>0.0</td>\n",
       "      <td>0.0</td>\n",
       "    </tr>\n",
       "    <tr>\n",
       "      <th>217</th>\n",
       "      <td>0.0</td>\n",
       "      <td>0.0</td>\n",
       "    </tr>\n",
       "    <tr>\n",
       "      <th>218</th>\n",
       "      <td>0.0</td>\n",
       "      <td>0.0</td>\n",
       "    </tr>\n",
       "    <tr>\n",
       "      <th>219</th>\n",
       "      <td>0.0</td>\n",
       "      <td>0.0</td>\n",
       "    </tr>\n",
       "  </tbody>\n",
       "</table>\n",
       "</div>"
      ],
      "text/plain": [
       "     Max. throughput [kB/s]  CPU\n",
       "215                     0.0  0.0\n",
       "216                     0.0  0.0\n",
       "217                     0.0  0.0\n",
       "218                     0.0  0.0\n",
       "219                     0.0  0.0"
      ]
     },
     "execution_count": 380,
     "metadata": {},
     "output_type": "execute_result"
    }
   ],
   "source": [
    "web1_small.tail()"
   ]
  },
  {
   "cell_type": "code",
   "execution_count": 381,
   "metadata": {},
   "outputs": [
    {
     "data": {
      "text/plain": [
       "<matplotlib.axes._subplots.AxesSubplot at 0x1ee9d30e8d0>"
      ]
     },
     "execution_count": 381,
     "metadata": {},
     "output_type": "execute_result"
    },
    {
     "data": {
      "image/png": "[encoded data removed]",
      "text/plain": [
       "<Figure size 432x288 with 1 Axes>"
      ]
     },
     "metadata": {},
     "output_type": "display_data"
    }
   ],
   "source": [
    "# plot cpu and Max. throughput [kB/s]\n",
    "sns.scatterplot(web1_small['Max. throughput [kB/s]'], web1_small['CPU'])\n",
    "# sns.scatterplot(web1_big['Max. throughput [kB/s]'], web1_big['CPU'])\n",
    "sns.scatterplot(web2_small['Max. throughput [kB/s]'], web2_small['CPU'])\n",
    "# sns.scatterplot(web2_big['Max. throughput [kB/s]'], web2_big['CPU'])\n",
    "sns.scatterplot(web3_small['Max. throughput [kB/s]'], web3_small['CPU'])\n",
    "# sns.scatterplot(web3_big['Max. throughput [kB/s]'], web3_big['CPU'])"
   ]
  },
  {
   "cell_type": "code",
   "execution_count": 382,
   "metadata": {},
   "outputs": [
    {
     "data": {
      "image/png": "[encoded data removed]",
      "text/plain": [
       "<Figure size 432x288 with 1 Axes>"
      ]
     },
     "metadata": {},
     "output_type": "display_data"
    }
   ],
   "source": [
    "# proper plotting of VNF data for paper\n",
    "# only use data with small flows\n",
    "def plot_vnf_data():\n",
    "    fig, ax = plt.subplots()\n",
    "    plt.scatter(web1_small['Max. throughput [kB/s]'], web1_small['CPU'], label='Nginx', marker='.')\n",
    "    plt.scatter(web2_small['Max. throughput [kB/s]'], web2_small['CPU'], label='HAProxy', marker='+')\n",
    "    plt.scatter(web3_small['Max. throughput [kB/s]'], web3_small['CPU'], label='Squid', marker='x')\n",
    "\n",
    "    # labels\n",
    "    ax.set_xlabel('Max. throughput [kB/s]')\n",
    "    ax.set_ylabel('CPU')\n",
    "    plt.legend()\n",
    "    \n",
    "    fig.savefig(f'plots/web_vnf_data.pdf', bbox_inches='tight')\n",
    "    \n",
    "plot_vnf_data()"
   ]
  },
  {
   "cell_type": "code",
   "execution_count": 383,
   "metadata": {},
   "outputs": [],
   "source": [
    "def display_scores(scores):\n",
    "    print(f\"Mean: {scores.mean()}\")\n",
    "    print(f\"Std: {scores.std()}\")\n",
    "    \n",
    "def do_cv(model, X_train, y_train, k=5):\n",
    "    # train score\n",
    "    print(\"Train score:\")\n",
    "    model.fit(X_train, y_train)\n",
    "    y_train_pred = model.predict(X_train)\n",
    "    rmse = np.sqrt(mean_squared_error(y_train, y_train_pred))\n",
    "    display_scores(rmse)\n",
    "    \n",
    "    # CV score\n",
    "    print(\"CV score:\")\n",
    "    scores = cross_val_score(model, X_train, y_train, scoring=\"neg_mean_squared_error\", cv=k)\n",
    "    rmse = np.sqrt(-scores)\n",
    "    display_scores(rmse)\n",
    "    \n",
    "    return rmse    \n",
    "    \n",
    "def check_model(X_train, y_train, model):\n",
    "    \"\"\"Do test, train split; k-fold CV; and visualize\"\"\"\n",
    "    name = type(model).__name__\n",
    "    print(f\"\\n{name}\")\n",
    "    \n",
    "    # scale throughput to 0-1\n",
    "    scaler = MinMaxScaler()\n",
    "    X_scaled = scaler.fit_transform(X_train)\n",
    "    rmse = do_cv(model, X_scaled, y_train)\n",
    "#     predict_plot_all(model, X, y)\n",
    "\n",
    "    return rmse"
   ]
  },
  {
   "cell_type": "code",
   "execution_count": 384,
   "metadata": {},
   "outputs": [
    {
     "name": "stdout",
     "output_type": "stream",
     "text": [
      "\n",
      "LinearRegression\n",
      "Train score:\n",
      "Mean: 0.08476596257147698\n",
      "Std: 0.0\n",
      "CV score:\n",
      "Mean: 0.08483697160212288\n",
      "Std: 0.010716135559959471\n",
      "\n",
      "Ridge\n",
      "Train score:\n",
      "Mean: 0.08560223240824857\n",
      "Std: 0.0\n",
      "CV score:\n",
      "Mean: 0.08608709239240801\n",
      "Std: 0.011605955323413438\n",
      "\n",
      "SVR\n",
      "Train score:\n",
      "Mean: 0.08539121769131718\n",
      "Std: 0.0\n",
      "CV score:\n",
      "Mean: 0.08443648082862414\n",
      "Std: 0.009460269347494537\n",
      "\n",
      "RandomForestRegressor\n",
      "Train score:\n",
      "Mean: 0.03422297651011848\n",
      "Std: 0.0\n",
      "CV score:\n",
      "Mean: 0.0803966927461727\n",
      "Std: 0.011072604242375475\n",
      "\n",
      "GradientBoostingRegressor\n",
      "Train score:\n",
      "Mean: 0.02962841140237868\n",
      "Std: 0.0\n",
      "CV score:\n",
      "Mean: 0.08385009280750691\n",
      "Std: 0.01292576492860418\n",
      "\n",
      "MLPRegressor\n",
      "Train score:\n",
      "Mean: 0.08870350552955682\n",
      "Std: 0.0\n",
      "CV score:\n",
      "Mean: 0.09259678421745288\n",
      "Std: 0.014292427848195607\n"
     ]
    }
   ],
   "source": [
    "data = web3_small\n",
    "vnf_name = 'web3_small'\n",
    "\n",
    "# prepare train and test set\n",
    "X = data[['Max. throughput [kB/s]']]\n",
    "y = data['CPU']\n",
    "X = X.fillna(X.median())\n",
    "X_train, X_test, y_train, y_test = train_test_split(X, y, test_size=0.1)\n",
    "\n",
    "rmse_lin = check_model(X_train, y_train, LinearRegression())\n",
    "rmse_ridge = check_model(X_train, y_train, Ridge())\n",
    "rmse_svr = check_model(X_train, y_train, SVR())\n",
    "rmse_forest = check_model(X_train, y_train, RandomForestRegressor())\n",
    "rmse_boost = check_model(X_train, y_train, GradientBoostingRegressor())\n",
    "rmse_mlp = check_model(X_train, y_train, MLPRegressor())"
   ]
  },
  {
   "cell_type": "code",
   "execution_count": 385,
   "metadata": {},
   "outputs": [],
   "source": [
    "# bar plot comparing the RMSE of the different algorithms\n",
    "def barplot_rmse(scores, labels, data_name):\n",
    "    assert len(scores) == len(labels)\n",
    "    \n",
    "    # preparation\n",
    "    rmse_mean = [s.mean() for s in scores]\n",
    "    rmse_std = [s.std() for s in scores]\n",
    "    x = np.arange(len(labels))\n",
    "\n",
    "    # plot\n",
    "    fig, ax = plt.subplots()\n",
    "    plt.bar(x, rmse_mean, color='grey', yerr=rmse_std, capsize=5)\n",
    "\n",
    "    # labels\n",
    "    ax.set_xlabel('Machine learning models')\n",
    "    ax.set_ylabel('RMSE')\n",
    "    ax.set_xticks(x)\n",
    "    ax.set_xticklabels(labels)\n",
    "    \n",
    "    fig.savefig(f'plots/{data_name}_rmse.pdf', bbox_inches='tight')"
   ]
  },
  {
   "cell_type": "code",
   "execution_count": 386,
   "metadata": {},
   "outputs": [
    {
     "data": {
      "image/png": "[encoded data removed]",
      "text/plain": [
       "<Figure size 432x288 with 1 Axes>"
      ]
     },
     "metadata": {},
     "output_type": "display_data"
    }
   ],
   "source": [
    "labels = ['Linear', 'Ridge', 'SVR', 'Forest', 'Boosting', 'MLP']\n",
    "scores = [rmse_lin, rmse_ridge, rmse_svr, rmse_forest, rmse_boost, rmse_mlp]\n",
    "\n",
    "barplot_rmse(scores, labels, vnf_name)"
   ]
  },
  {
   "cell_type": "code",
   "execution_count": 387,
   "metadata": {},
   "outputs": [],
   "source": [
    "def predict_plot_all(X, y, vnf_name):\n",
    "    \"\"\"Given a list of models, fit all to the data, save model, and plot their predictions\"\"\"\n",
    "    models = [LinearRegression(), GradientBoostingRegressor()]\n",
    "    labels = ['Linear', 'Boosting']\n",
    "    markers = ['x', '^']\n",
    "    colors = ['blue', 'red']\n",
    "    \n",
    "    fig, ax = plt.subplots()    \n",
    "    plt.scatter(X, y, label='True', marker='o', color='black')\n",
    "    for i, model in enumerate(models):\n",
    "        # train and save model\n",
    "        name = type(model).__name__\n",
    "        model.fit(X, y)\n",
    "        joblib.dump(model, f'ml_models/{vnf_name}/{name}.joblib')\n",
    "        # predict and plot data\n",
    "        X_plot = pd.DataFrame({'Max. throughput [kB/s]': np.arange(200, 2500, 50)})\n",
    "        y_pred = model.predict(X_plot)\n",
    "        plt.scatter(X_plot, y_pred, label=labels[i], marker=markers[i], color=colors[i])\n",
    "    plt.xlabel('Max. throughput [kB/s]')\n",
    "    plt.ylabel('CPU')\n",
    "    plt.legend()\n",
    "    fig.savefig(f'plots/{vnf_name}_model_comparison.pdf')"
   ]
  },
  {
   "cell_type": "code",
   "execution_count": 388,
   "metadata": {},
   "outputs": [
    {
     "data": {
      "image/png": "[encoded data removed]",
      "text/plain": [
       "<Figure size 432x288 with 1 Axes>"
      ]
     },
     "metadata": {},
     "output_type": "display_data"
    }
   ],
   "source": [
    "predict_plot_all(X, y, vnf_name)"
   ]
  },
  {
   "cell_type": "code",
   "execution_count": 389,
   "metadata": {},
   "outputs": [],
   "source": [
    "# TODO: tune hyper params and check difference. probably only do this for the best model or so\n",
    "\n",
    "# MLP\n",
    "# param_grid = {\n",
    "#     'hidden_layer_sizes': [(64,), (128,), (256), (64,64,), (128, 128)],\n",
    "#     'learning_rate_init': [0.001, 0.0001, 0.00001],\n",
    "#              }\n",
    "# grid_search = GridSearchCV(MLPRegressor(max_iter=1000), param_grid, cv=5, scoring=\"neg_mean_squared_error\")\n",
    "# scaler = MinMaxScaler()\n",
    "# X_scaled = scaler.fit_transform(X_train)\n",
    "# grid_search.fit(X_scaled, y_train)\n",
    "\n",
    "# # grid_search.best_estimator_\n",
    "# # np.sqrt(-grid_search.best_score_)\n",
    "\n",
    "# print(grid_search.best_params_)\n",
    "\n",
    "# # get CV score of best \n",
    "# idx = grid_search.best_index_\n",
    "# score = grid_search.cv_results_['mean_test_score'][idx]\n",
    "# std = grid_search.cv_results_['std_test_score'][idx]\n",
    "# np.sqrt(-score)"
   ]
  },
  {
   "cell_type": "code",
   "execution_count": null,
   "metadata": {},
   "outputs": [],
   "source": []
  },
  {
   "cell_type": "code",
   "execution_count": null,
   "metadata": {},
   "outputs": [],
   "source": []
  }
 ],
 "metadata": {
  "kernelspec": {
   "display_name": "Python 3",
   "language": "python",
   "name": "python3"
  },
  "language_info": {
   "codemirror_mode": {
    "name": "ipython",
    "version": 3
   },
   "file_extension": ".py",
   "mimetype": "text/x-python",
   "name": "python",
   "nbconvert_exporter": "python",
   "pygments_lexer": "ipython3",
   "version": "3.6.2"
  }
 },
 "nbformat": 4,
 "nbformat_minor": 4
}
